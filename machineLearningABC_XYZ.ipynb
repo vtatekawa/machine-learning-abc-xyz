{
 "cells": [
  {
   "cell_type": "markdown",
   "metadata": {},
   "source": [
    "#### Importar as Bibliotecas Necessárias"
   ]
  },
  {
   "cell_type": "markdown",
   "metadata": {},
   "source": [
    "Esta célula importa as bibliotecas essenciais para a análise de dados (pandas e numpy) e para a clusterização (KMeans do sklearn)."
   ]
  },
  {
   "cell_type": "code",
   "execution_count": 37,
   "metadata": {},
   "outputs": [],
   "source": [
    "import pandas as pd\n",
    "from sklearn.preprocessing import StandardScaler\n",
    "from sklearn.cluster import KMeans\n",
    "import numpy as np\n",
    "import matplotlib.pyplot as plt\n",
    "import seaborn as sns"
   ]
  },
  {
   "cell_type": "code",
   "execution_count": 27,
   "metadata": {},
   "outputs": [
    {
     "data": {
      "text/html": [
       "<div>\n",
       "<style scoped>\n",
       "    .dataframe tbody tr th:only-of-type {\n",
       "        vertical-align: middle;\n",
       "    }\n",
       "\n",
       "    .dataframe tbody tr th {\n",
       "        vertical-align: top;\n",
       "    }\n",
       "\n",
       "    .dataframe thead th {\n",
       "        text-align: right;\n",
       "    }\n",
       "</style>\n",
       "<table border=\"1\" class=\"dataframe\">\n",
       "  <thead>\n",
       "    <tr style=\"text-align: right;\">\n",
       "      <th></th>\n",
       "      <th>Produto_ID</th>\n",
       "      <th>volume_vendas</th>\n",
       "      <th>valor_monetario</th>\n",
       "      <th>frequencia_vendas</th>\n",
       "      <th>vendas_mes_1</th>\n",
       "      <th>vendas_mes_2</th>\n",
       "      <th>vendas_mes_3</th>\n",
       "    </tr>\n",
       "  </thead>\n",
       "  <tbody>\n",
       "    <tr>\n",
       "      <th>0</th>\n",
       "      <td>P001</td>\n",
       "      <td>6241</td>\n",
       "      <td>86447.24</td>\n",
       "      <td>997</td>\n",
       "      <td>959</td>\n",
       "      <td>1150</td>\n",
       "      <td>4132</td>\n",
       "    </tr>\n",
       "    <tr>\n",
       "      <th>1</th>\n",
       "      <td>P002</td>\n",
       "      <td>10330</td>\n",
       "      <td>62706.51</td>\n",
       "      <td>962</td>\n",
       "      <td>4548</td>\n",
       "      <td>1931</td>\n",
       "      <td>3851</td>\n",
       "    </tr>\n",
       "    <tr>\n",
       "      <th>2</th>\n",
       "      <td>P003</td>\n",
       "      <td>7519</td>\n",
       "      <td>33758.90</td>\n",
       "      <td>482</td>\n",
       "      <td>3067</td>\n",
       "      <td>1012</td>\n",
       "      <td>3440</td>\n",
       "    </tr>\n",
       "    <tr>\n",
       "      <th>3</th>\n",
       "      <td>P004</td>\n",
       "      <td>6245</td>\n",
       "      <td>7292.28</td>\n",
       "      <td>955</td>\n",
       "      <td>815</td>\n",
       "      <td>1664</td>\n",
       "      <td>3766</td>\n",
       "    </tr>\n",
       "    <tr>\n",
       "      <th>4</th>\n",
       "      <td>P005</td>\n",
       "      <td>8161</td>\n",
       "      <td>31787.25</td>\n",
       "      <td>160</td>\n",
       "      <td>4754</td>\n",
       "      <td>1081</td>\n",
       "      <td>2326</td>\n",
       "    </tr>\n",
       "  </tbody>\n",
       "</table>\n",
       "</div>"
      ],
      "text/plain": [
       "  Produto_ID  volume_vendas  valor_monetario  frequencia_vendas  vendas_mes_1  \\\n",
       "0       P001           6241         86447.24                997           959   \n",
       "1       P002          10330         62706.51                962          4548   \n",
       "2       P003           7519         33758.90                482          3067   \n",
       "3       P004           6245          7292.28                955           815   \n",
       "4       P005           8161         31787.25                160          4754   \n",
       "\n",
       "   vendas_mes_2  vendas_mes_3  \n",
       "0          1150          4132  \n",
       "1          1931          3851  \n",
       "2          1012          3440  \n",
       "3          1664          3766  \n",
       "4          1081          2326  "
      ]
     },
     "execution_count": 27,
     "metadata": {},
     "output_type": "execute_result"
    }
   ],
   "source": [
    "df = pd.read_excel('input/historico_vendas.xlsx')\n",
    "df.head()"
   ]
  },
  {
   "cell_type": "markdown",
   "metadata": {},
   "source": [
    "#### Análise ABC com Machine Learning"
   ]
  },
  {
   "cell_type": "markdown",
   "metadata": {},
   "source": [
    "A análise ABC classifica os produtos em três categorias com base na importância relativa:\n",
    "\n",
    "- Classe A: Produtos de alta importância\n",
    "- Classe B: Produtos de importância moderada\n",
    "- Classe C: Produtos de baixa importância\n",
    "\n",
    "Multivariada: O K-means pode considerar múltiplas variáveis simultaneamente (volume, valor, frequência), proporcionando uma visão mais holística do que apenas o valor do produto, nesse exemplo é usado volume de vendas, valor monetário e frequência de venda."
   ]
  },
  {
   "cell_type": "code",
   "execution_count": 42,
   "metadata": {},
   "outputs": [],
   "source": [
    "# Selecionar as colunas relevantes para análise ABC\n",
    "features = df[['volume_vendas', 'valor_monetario', 'frequencia_vendas']]\n",
    "\n",
    "# Normalizar os dados\n",
    "scaler = StandardScaler()\n",
    "features_scaled = scaler.fit_transform(features)\n",
    "\n",
    "# Aplicar K-means\n",
    "kmeans = KMeans(n_clusters=3, random_state=0)\n",
    "df['ABC_Class'] = kmeans.fit_predict(features_scaled)\n",
    "\n",
    "# Mapear as classes para A, B e C\n",
    "df['ABC_Class'] = df['ABC_Class'].map({0: 'A', 1: 'B', 2: 'C'})"
   ]
  },
  {
   "cell_type": "markdown",
   "metadata": {},
   "source": [
    "#### Análise XYZ"
   ]
  },
  {
   "cell_type": "markdown",
   "metadata": {},
   "source": [
    "A análise XYZ classifica os produtos com base na variabilidade da demanda:\n",
    "\n",
    "- Classe X: Demanda estável\n",
    "- Classe Y: Demanda moderadamente variável\n",
    "- Classe Z: Demanda altamente variável\n",
    "\n",
    "Utilizando a técnica de análise de séries temporais e a aplicação de modelos de clustering, podemos automatizar essa classificação."
   ]
  },
  {
   "cell_type": "code",
   "execution_count": 52,
   "metadata": {},
   "outputs": [],
   "source": [
    "def coef_var(row):\n",
    "    return np.std(row) / np.mean(row)\n",
    "\n",
    "# Aplicar a função ao dataframe para calcular o coeficiente de variação das vendas\n",
    "df['coef_var'] = df[['vendas_mes_1', 'vendas_mes_2', 'vendas_mes_3']].apply(coef_var, axis=1)\n",
    "\n",
    "# Classificar com base no coeficiente de variação\n",
    "conditions = [\n",
    "    (df['coef_var'] < 0.1),\n",
    "    (df['coef_var'] >= 0.1) & (df['coef_var'] <= 0.25),\n",
    "    (df['coef_var'] > 0.25)\n",
    "]\n",
    "\n",
    "values = ['X', 'Y', 'Z']\n",
    "\n",
    "# Definindo o valor padrão como string\n",
    "default_value = 'Z'\n",
    "\n",
    "# Aplicando o np.select\n",
    "df['XYZ_Class'] = np.select(conditions, values, default=default_value)"
   ]
  },
  {
   "cell_type": "markdown",
   "metadata": {},
   "source": [
    "#### Integração das Análises ABC e XYZ"
   ]
  },
  {
   "cell_type": "markdown",
   "metadata": {},
   "source": [
    "Combinar os resultados das análises ABC e XYZ para segmentar os produtos de maneira mais detalhada."
   ]
  },
  {
   "cell_type": "code",
   "execution_count": 53,
   "metadata": {},
   "outputs": [],
   "source": [
    "df['ABC_XYZ_Class'] = df['ABC_Class'] + df['XYZ_Class']\n",
    "\n",
    "df.to_excel('output/ABC_XYZ.xlsx')"
   ]
  },
  {
   "cell_type": "markdown",
   "metadata": {},
   "source": [
    "#### Visualização e Análise"
   ]
  },
  {
   "cell_type": "markdown",
   "metadata": {},
   "source": [
    "Visualize os resultados para entender melhor a segmentação e para comunicar as descobertas de maneira eficaz."
   ]
  },
  {
   "cell_type": "code",
   "execution_count": 56,
   "metadata": {},
   "outputs": [
    {
     "data": {
      "image/png": "[encoded data removed]",
      "text/plain": [
       "<Figure size 1000x600 with 1 Axes>"
      ]
     },
     "metadata": {},
     "output_type": "display_data"
    }
   ],
   "source": [
    "# Ordenar as classes em ordem alfabética\n",
    "sorted_classes = sorted(df['ABC_XYZ_Class'].unique())\n",
    "\n",
    "# Criar o gráfico de contagem com as classes ordenadas\n",
    "plt.figure(figsize=(10, 6))\n",
    "sns.countplot(data=df, x='ABC_XYZ_Class', order=sorted_classes)\n",
    "plt.title('Segmentação de Produtos ABC-XYZ')\n",
    "plt.xlabel('Classes ABC-XYZ')\n",
    "plt.ylabel('Contagem')\n",
    "plt.show()"
   ]
  },
  {
   "cell_type": "markdown",
   "metadata": {},
   "source": [
    "**Detalhamento das Combinações ABC-XYZ**\n",
    "\n",
    "A segmentação ABC-XYZ resulta em nove combinações possíveis, cada uma com características distintas em termos de valor e variabilidade da demanda. Aqui está um detalhamento das estratégias sugeridas para cada combinação:\n",
    "\n",
    "1. **Produtos AX**\n",
    "Características: Alto valor (A) e demanda estável (X).\n",
    "\n",
    "**Estratégias:**\\\n",
    "Manter um alto nível de estoque para garantir disponibilidade, já que esses produtos são críticos e a demanda é previsível.\n",
    "\n",
    "2. **Produtos AY**\n",
    "Características: Alto valor (A) e demanda moderadamente variável (Y).\n",
    "\n",
    "**Estratégias:**\\\n",
    "Manter um estoque moderado e revisar periodicamente os níveis de estoque para ajustar às variações de demanda.\n",
    "\n",
    "3. **Produtos AZ**\n",
    "Características: Alto valor (A) e demanda altamente variável (Z).\n",
    "\n",
    "**Estratégias:**\\\n",
    "Manter estoque de segurança alto e usar previsões de demanda avançadas para ajustar os níveis de estoque.\n",
    "\n",
    "4. **Produtos BX**\n",
    "Características: Valor médio (B) e demanda estável (X).\n",
    "\n",
    "**Estratégias:**\\\n",
    "Manter um nível de estoque consistente, suficiente para atender a demanda sem excessos.\n",
    "\n",
    "5. **Produtos BY**\n",
    "Características: Valor médio (B) e demanda moderadamente variável (Y).\n",
    "\n",
    "**Estratégias:**\\\n",
    "Monitorar e ajustar os níveis de estoque conforme a variação de demanda.\n",
    "\n",
    "6. **Produtos BZ**\n",
    "Características: Valor médio (B) e demanda altamente variável (Z).\n",
    "\n",
    "**Estratégias:**\\\n",
    "Manter um nível de estoque de segurança moderado e ajustar frequentemente baseado em previsões.\n",
    "\n",
    "7. **Produtos CX**\n",
    "Características: Baixo valor (C) e demanda estável (X).\n",
    "\n",
    "**Estratégias:**\\\n",
    "Manter um nível de estoque baixo, mas suficiente para evitar rupturas.\n",
    "\n",
    "8. **Produtos CY**\n",
    "Características: Baixo valor (C) e demanda moderadamente variável (Y).\n",
    "\n",
    "**Estratégias:**\\\n",
    "Monitorar regularmente e ajustar os níveis de estoque para evitar excessos.\n",
    "\n",
    "9. **Produtos CZ**\n",
    "Características: Baixo valor (C) e demanda altamente variável (Z).\n",
    "\n",
    "**Estratégias:**\\\n",
    "Manter o estoque mínimo e considerar a descontinuação de produtos com baixa performance."
   ]
  }
 ],
 "metadata": {
  "kernelspec": {
   "display_name": ".venv",
   "language": "python",
   "name": "python3"
  },
  "language_info": {
   "codemirror_mode": {
    "name": "ipython",
    "version": 3
   },
   "file_extension": ".py",
   "mimetype": "text/x-python",
   "name": "python",
   "nbconvert_exporter": "python",
   "pygments_lexer": "ipython3",
   "version": "3.12.7"
  }
 },
 "nbformat": 4,
 "nbformat_minor": 2
}
